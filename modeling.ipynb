{
 "cells": [
  {
   "cell_type": "markdown",
   "id": "1e082286",
   "metadata": {},
   "source": [
    "# 6.- Modeling "
   ]
  },
  {
   "cell_type": "markdown",
   "id": "60e4d4ef",
   "metadata": {},
   "source": [
    "Machine learning model implementation"
   ]
  },
  {
   "cell_type": "code",
   "execution_count": 6,
   "id": "487da977",
   "metadata": {},
   "outputs": [],
   "source": [
    "#Libraries utilized\n",
    "import numpy as np\n",
    "import pandas as pd\n",
    "from sklearn.model_selection import train_test_split\n",
    "from sklearn.linear_model import LinearRegression\n",
    "#evaluating the model\n",
    "from sklearn.metrics import mean_squared_error, r2_score\n",
    "\n",
    "\n",
    "#Libraries for the \n",
    "from keras.models import Sequential\n",
    "from keras.layers import LSTM, Dense\n",
    "from sklearn.model_selection import train_test_split\n",
    "\n",
    "#scatter plot\n",
    "import matplotlib.pyplot as plt\n",
    "from pandasgui import show\n",
    "\n",
    "#Polinomial regression\n",
    "from sklearn.preprocessing import PolynomialFeatures"
   ]
  },
  {
   "cell_type": "markdown",
   "id": "7e21b1a3",
   "metadata": {},
   "source": [
    "### Loading the reduced dataset"
   ]
  },
  {
   "cell_type": "code",
   "execution_count": 7,
   "id": "2c97599a",
   "metadata": {},
   "outputs": [
    {
     "name": "stdout",
     "output_type": "stream",
     "text": [
      "<class 'pandas.core.frame.DataFrame'>\n",
      "RangeIndex: 17538 entries, 0 to 17537\n",
      "Data columns (total 14 columns):\n",
      " #   Column           Non-Null Count  Dtype  \n",
      "---  ------           --------------  -----  \n",
      " 0   Unnamed: 0       17538 non-null  int64  \n",
      " 1   LocID            17538 non-null  int64  \n",
      " 2   Time             17538 non-null  int64  \n",
      " 3   TPopulation1Jan  17538 non-null  float64\n",
      " 4   PopDensity       17538 non-null  float64\n",
      " 5   PopSexRatio      17538 non-null  float64\n",
      " 6   MedianAgePop     17538 non-null  float64\n",
      " 7   PopGrowthRate    17538 non-null  float64\n",
      " 8   DoublingTime     17538 non-null  float64\n",
      " 9   MAC              17538 non-null  float64\n",
      " 10  SRB              17538 non-null  float64\n",
      " 11  CDR              17538 non-null  float64\n",
      " 12  NetMigrations    17538 non-null  float64\n",
      " 13  Location         17538 non-null  object \n",
      "dtypes: float64(10), int64(3), object(1)\n",
      "memory usage: 1.9+ MB\n"
     ]
    }
   ],
   "source": [
    "#Loading from the previously processed dataframe\n",
    "population_data_origin  = pd.read_csv('datasets/population_merged_reduced.csv',  sep=\",\",low_memory=False)\n",
    "\n",
    "# Display the DataFrame information including data types\n",
    "population_data_origin.info(verbose=True)"
   ]
  },
  {
   "cell_type": "code",
   "execution_count": 8,
   "id": "dd573f2d",
   "metadata": {},
   "outputs": [
    {
     "data": {
      "text/html": [
       "<div>\n",
       "<style scoped>\n",
       "    .dataframe tbody tr th:only-of-type {\n",
       "        vertical-align: middle;\n",
       "    }\n",
       "\n",
       "    .dataframe tbody tr th {\n",
       "        vertical-align: top;\n",
       "    }\n",
       "\n",
       "    .dataframe thead th {\n",
       "        text-align: right;\n",
       "    }\n",
       "</style>\n",
       "<table border=\"1\" class=\"dataframe\">\n",
       "  <thead>\n",
       "    <tr style=\"text-align: right;\">\n",
       "      <th></th>\n",
       "      <th>LocID</th>\n",
       "      <th>Time</th>\n",
       "      <th>TPopulation1Jan</th>\n",
       "      <th>PopDensity</th>\n",
       "      <th>PopSexRatio</th>\n",
       "      <th>MedianAgePop</th>\n",
       "      <th>PopGrowthRate</th>\n",
       "      <th>DoublingTime</th>\n",
       "      <th>MAC</th>\n",
       "      <th>SRB</th>\n",
       "      <th>CDR</th>\n",
       "      <th>NetMigrations</th>\n",
       "      <th>Location</th>\n",
       "    </tr>\n",
       "  </thead>\n",
       "  <tbody>\n",
       "    <tr>\n",
       "      <th>0</th>\n",
       "      <td>108</td>\n",
       "      <td>1950</td>\n",
       "      <td>2229.322</td>\n",
       "      <td>86.8637</td>\n",
       "      <td>91.9472</td>\n",
       "      <td>18.3147</td>\n",
       "      <td>2.200</td>\n",
       "      <td>31.5067</td>\n",
       "      <td>30.995</td>\n",
       "      <td>102.5</td>\n",
       "      <td>23.546</td>\n",
       "      <td>-13.343</td>\n",
       "      <td>Burundi</td>\n",
       "    </tr>\n",
       "    <tr>\n",
       "      <th>1</th>\n",
       "      <td>108</td>\n",
       "      <td>1951</td>\n",
       "      <td>2278.903</td>\n",
       "      <td>88.7571</td>\n",
       "      <td>92.1448</td>\n",
       "      <td>18.0842</td>\n",
       "      <td>2.114</td>\n",
       "      <td>32.7884</td>\n",
       "      <td>30.996</td>\n",
       "      <td>102.5</td>\n",
       "      <td>23.879</td>\n",
       "      <td>-13.217</td>\n",
       "      <td>Burundi</td>\n",
       "    </tr>\n",
       "    <tr>\n",
       "      <th>2</th>\n",
       "      <td>108</td>\n",
       "      <td>1952</td>\n",
       "      <td>2327.593</td>\n",
       "      <td>90.6179</td>\n",
       "      <td>92.3191</td>\n",
       "      <td>17.8744</td>\n",
       "      <td>2.036</td>\n",
       "      <td>34.0446</td>\n",
       "      <td>31.026</td>\n",
       "      <td>102.5</td>\n",
       "      <td>23.815</td>\n",
       "      <td>-13.715</td>\n",
       "      <td>Burundi</td>\n",
       "    </tr>\n",
       "    <tr>\n",
       "      <th>3</th>\n",
       "      <td>108</td>\n",
       "      <td>1953</td>\n",
       "      <td>2375.478</td>\n",
       "      <td>92.4508</td>\n",
       "      <td>92.4880</td>\n",
       "      <td>17.6693</td>\n",
       "      <td>1.969</td>\n",
       "      <td>35.2030</td>\n",
       "      <td>31.030</td>\n",
       "      <td>102.5</td>\n",
       "      <td>23.604</td>\n",
       "      <td>-14.962</td>\n",
       "      <td>Burundi</td>\n",
       "    </tr>\n",
       "    <tr>\n",
       "      <th>4</th>\n",
       "      <td>108</td>\n",
       "      <td>1954</td>\n",
       "      <td>2422.721</td>\n",
       "      <td>94.2874</td>\n",
       "      <td>92.6503</td>\n",
       "      <td>17.4706</td>\n",
       "      <td>1.965</td>\n",
       "      <td>35.2747</td>\n",
       "      <td>31.036</td>\n",
       "      <td>102.5</td>\n",
       "      <td>23.347</td>\n",
       "      <td>-14.599</td>\n",
       "      <td>Burundi</td>\n",
       "    </tr>\n",
       "  </tbody>\n",
       "</table>\n",
       "</div>"
      ],
      "text/plain": [
       "   LocID  Time  TPopulation1Jan  PopDensity  PopSexRatio  MedianAgePop  \\\n",
       "0    108  1950         2229.322     86.8637      91.9472       18.3147   \n",
       "1    108  1951         2278.903     88.7571      92.1448       18.0842   \n",
       "2    108  1952         2327.593     90.6179      92.3191       17.8744   \n",
       "3    108  1953         2375.478     92.4508      92.4880       17.6693   \n",
       "4    108  1954         2422.721     94.2874      92.6503       17.4706   \n",
       "\n",
       "   PopGrowthRate  DoublingTime     MAC    SRB     CDR  NetMigrations Location  \n",
       "0          2.200       31.5067  30.995  102.5  23.546        -13.343  Burundi  \n",
       "1          2.114       32.7884  30.996  102.5  23.879        -13.217  Burundi  \n",
       "2          2.036       34.0446  31.026  102.5  23.815        -13.715  Burundi  \n",
       "3          1.969       35.2030  31.030  102.5  23.604        -14.962  Burundi  \n",
       "4          1.965       35.2747  31.036  102.5  23.347        -14.599  Burundi  "
      ]
     },
     "execution_count": 8,
     "metadata": {},
     "output_type": "execute_result"
    }
   ],
   "source": [
    "#Deleting first attribute garbage generated\n",
    "population_data_origin = population_data_origin.iloc[:, 1:]\n",
    "\n",
    "#show the dataframe\n",
    "population_data_origin.head()\n"
   ]
  },
  {
   "cell_type": "code",
   "execution_count": 9,
   "id": "fc1954db",
   "metadata": {},
   "outputs": [],
   "source": [
    "# For modeling we do not need the location name varchar type\n",
    "population_data =  population_data_origin.drop(\"Location\", axis='columns')"
   ]
  },
  {
   "cell_type": "code",
   "execution_count": 10,
   "id": "85f4fec9",
   "metadata": {},
   "outputs": [
    {
     "data": {
      "text/html": [
       "<div>\n",
       "<style scoped>\n",
       "    .dataframe tbody tr th:only-of-type {\n",
       "        vertical-align: middle;\n",
       "    }\n",
       "\n",
       "    .dataframe tbody tr th {\n",
       "        vertical-align: top;\n",
       "    }\n",
       "\n",
       "    .dataframe thead th {\n",
       "        text-align: right;\n",
       "    }\n",
       "</style>\n",
       "<table border=\"1\" class=\"dataframe\">\n",
       "  <thead>\n",
       "    <tr style=\"text-align: right;\">\n",
       "      <th></th>\n",
       "      <th>LocID</th>\n",
       "      <th>Time</th>\n",
       "      <th>TPopulation1Jan</th>\n",
       "      <th>PopDensity</th>\n",
       "      <th>PopSexRatio</th>\n",
       "      <th>MedianAgePop</th>\n",
       "      <th>PopGrowthRate</th>\n",
       "      <th>DoublingTime</th>\n",
       "      <th>MAC</th>\n",
       "      <th>SRB</th>\n",
       "      <th>CDR</th>\n",
       "      <th>NetMigrations</th>\n",
       "    </tr>\n",
       "  </thead>\n",
       "  <tbody>\n",
       "    <tr>\n",
       "      <th>0</th>\n",
       "      <td>108</td>\n",
       "      <td>1950</td>\n",
       "      <td>2229.322</td>\n",
       "      <td>86.8637</td>\n",
       "      <td>91.9472</td>\n",
       "      <td>18.3147</td>\n",
       "      <td>2.200</td>\n",
       "      <td>31.5067</td>\n",
       "      <td>30.995</td>\n",
       "      <td>102.5</td>\n",
       "      <td>23.546</td>\n",
       "      <td>-13.343</td>\n",
       "    </tr>\n",
       "    <tr>\n",
       "      <th>1</th>\n",
       "      <td>108</td>\n",
       "      <td>1951</td>\n",
       "      <td>2278.903</td>\n",
       "      <td>88.7571</td>\n",
       "      <td>92.1448</td>\n",
       "      <td>18.0842</td>\n",
       "      <td>2.114</td>\n",
       "      <td>32.7884</td>\n",
       "      <td>30.996</td>\n",
       "      <td>102.5</td>\n",
       "      <td>23.879</td>\n",
       "      <td>-13.217</td>\n",
       "    </tr>\n",
       "    <tr>\n",
       "      <th>2</th>\n",
       "      <td>108</td>\n",
       "      <td>1952</td>\n",
       "      <td>2327.593</td>\n",
       "      <td>90.6179</td>\n",
       "      <td>92.3191</td>\n",
       "      <td>17.8744</td>\n",
       "      <td>2.036</td>\n",
       "      <td>34.0446</td>\n",
       "      <td>31.026</td>\n",
       "      <td>102.5</td>\n",
       "      <td>23.815</td>\n",
       "      <td>-13.715</td>\n",
       "    </tr>\n",
       "    <tr>\n",
       "      <th>3</th>\n",
       "      <td>108</td>\n",
       "      <td>1953</td>\n",
       "      <td>2375.478</td>\n",
       "      <td>92.4508</td>\n",
       "      <td>92.4880</td>\n",
       "      <td>17.6693</td>\n",
       "      <td>1.969</td>\n",
       "      <td>35.2030</td>\n",
       "      <td>31.030</td>\n",
       "      <td>102.5</td>\n",
       "      <td>23.604</td>\n",
       "      <td>-14.962</td>\n",
       "    </tr>\n",
       "    <tr>\n",
       "      <th>4</th>\n",
       "      <td>108</td>\n",
       "      <td>1954</td>\n",
       "      <td>2422.721</td>\n",
       "      <td>94.2874</td>\n",
       "      <td>92.6503</td>\n",
       "      <td>17.4706</td>\n",
       "      <td>1.965</td>\n",
       "      <td>35.2747</td>\n",
       "      <td>31.036</td>\n",
       "      <td>102.5</td>\n",
       "      <td>23.347</td>\n",
       "      <td>-14.599</td>\n",
       "    </tr>\n",
       "  </tbody>\n",
       "</table>\n",
       "</div>"
      ],
      "text/plain": [
       "   LocID  Time  TPopulation1Jan  PopDensity  PopSexRatio  MedianAgePop  \\\n",
       "0    108  1950         2229.322     86.8637      91.9472       18.3147   \n",
       "1    108  1951         2278.903     88.7571      92.1448       18.0842   \n",
       "2    108  1952         2327.593     90.6179      92.3191       17.8744   \n",
       "3    108  1953         2375.478     92.4508      92.4880       17.6693   \n",
       "4    108  1954         2422.721     94.2874      92.6503       17.4706   \n",
       "\n",
       "   PopGrowthRate  DoublingTime     MAC    SRB     CDR  NetMigrations  \n",
       "0          2.200       31.5067  30.995  102.5  23.546        -13.343  \n",
       "1          2.114       32.7884  30.996  102.5  23.879        -13.217  \n",
       "2          2.036       34.0446  31.026  102.5  23.815        -13.715  \n",
       "3          1.969       35.2030  31.030  102.5  23.604        -14.962  \n",
       "4          1.965       35.2747  31.036  102.5  23.347        -14.599  "
      ]
     },
     "execution_count": 10,
     "metadata": {},
     "output_type": "execute_result"
    }
   ],
   "source": [
    "population_data.head()\n"
   ]
  },
  {
   "cell_type": "code",
   "execution_count": 12,
   "id": "ddc6a3d8",
   "metadata": {},
   "outputs": [
    {
     "data": {
      "text/html": [
       "<style>#sk-container-id-1 {color: black;background-color: white;}#sk-container-id-1 pre{padding: 0;}#sk-container-id-1 div.sk-toggleable {background-color: white;}#sk-container-id-1 label.sk-toggleable__label {cursor: pointer;display: block;width: 100%;margin-bottom: 0;padding: 0.3em;box-sizing: border-box;text-align: center;}#sk-container-id-1 label.sk-toggleable__label-arrow:before {content: \"▸\";float: left;margin-right: 0.25em;color: #696969;}#sk-container-id-1 label.sk-toggleable__label-arrow:hover:before {color: black;}#sk-container-id-1 div.sk-estimator:hover label.sk-toggleable__label-arrow:before {color: black;}#sk-container-id-1 div.sk-toggleable__content {max-height: 0;max-width: 0;overflow: hidden;text-align: left;background-color: #f0f8ff;}#sk-container-id-1 div.sk-toggleable__content pre {margin: 0.2em;color: black;border-radius: 0.25em;background-color: #f0f8ff;}#sk-container-id-1 input.sk-toggleable__control:checked~div.sk-toggleable__content {max-height: 200px;max-width: 100%;overflow: auto;}#sk-container-id-1 input.sk-toggleable__control:checked~label.sk-toggleable__label-arrow:before {content: \"▾\";}#sk-container-id-1 div.sk-estimator input.sk-toggleable__control:checked~label.sk-toggleable__label {background-color: #d4ebff;}#sk-container-id-1 div.sk-label input.sk-toggleable__control:checked~label.sk-toggleable__label {background-color: #d4ebff;}#sk-container-id-1 input.sk-hidden--visually {border: 0;clip: rect(1px 1px 1px 1px);clip: rect(1px, 1px, 1px, 1px);height: 1px;margin: -1px;overflow: hidden;padding: 0;position: absolute;width: 1px;}#sk-container-id-1 div.sk-estimator {font-family: monospace;background-color: #f0f8ff;border: 1px dotted black;border-radius: 0.25em;box-sizing: border-box;margin-bottom: 0.5em;}#sk-container-id-1 div.sk-estimator:hover {background-color: #d4ebff;}#sk-container-id-1 div.sk-parallel-item::after {content: \"\";width: 100%;border-bottom: 1px solid gray;flex-grow: 1;}#sk-container-id-1 div.sk-label:hover label.sk-toggleable__label {background-color: #d4ebff;}#sk-container-id-1 div.sk-serial::before {content: \"\";position: absolute;border-left: 1px solid gray;box-sizing: border-box;top: 0;bottom: 0;left: 50%;z-index: 0;}#sk-container-id-1 div.sk-serial {display: flex;flex-direction: column;align-items: center;background-color: white;padding-right: 0.2em;padding-left: 0.2em;position: relative;}#sk-container-id-1 div.sk-item {position: relative;z-index: 1;}#sk-container-id-1 div.sk-parallel {display: flex;align-items: stretch;justify-content: center;background-color: white;position: relative;}#sk-container-id-1 div.sk-item::before, #sk-container-id-1 div.sk-parallel-item::before {content: \"\";position: absolute;border-left: 1px solid gray;box-sizing: border-box;top: 0;bottom: 0;left: 50%;z-index: -1;}#sk-container-id-1 div.sk-parallel-item {display: flex;flex-direction: column;z-index: 1;position: relative;background-color: white;}#sk-container-id-1 div.sk-parallel-item:first-child::after {align-self: flex-end;width: 50%;}#sk-container-id-1 div.sk-parallel-item:last-child::after {align-self: flex-start;width: 50%;}#sk-container-id-1 div.sk-parallel-item:only-child::after {width: 0;}#sk-container-id-1 div.sk-dashed-wrapped {border: 1px dashed gray;margin: 0 0.4em 0.5em 0.4em;box-sizing: border-box;padding-bottom: 0.4em;background-color: white;}#sk-container-id-1 div.sk-label label {font-family: monospace;font-weight: bold;display: inline-block;line-height: 1.2em;}#sk-container-id-1 div.sk-label-container {text-align: center;}#sk-container-id-1 div.sk-container {/* jupyter's `normalize.less` sets `[hidden] { display: none; }` but bootstrap.min.css set `[hidden] { display: none !important; }` so we also need the `!important` here to be able to override the default hidden behavior on the sphinx rendered scikit-learn.org. See: https://github.com/scikit-learn/scikit-learn/issues/21755 */display: inline-block !important;position: relative;}#sk-container-id-1 div.sk-text-repr-fallback {display: none;}</style><div id=\"sk-container-id-1\" class=\"sk-top-container\"><div class=\"sk-text-repr-fallback\"><pre>LinearRegression()</pre><b>In a Jupyter environment, please rerun this cell to show the HTML representation or trust the notebook. <br />On GitHub, the HTML representation is unable to render, please try loading this page with nbviewer.org.</b></div><div class=\"sk-container\" hidden><div class=\"sk-item\"><div class=\"sk-estimator sk-toggleable\"><input class=\"sk-toggleable__control sk-hidden--visually\" id=\"sk-estimator-id-1\" type=\"checkbox\" checked><label for=\"sk-estimator-id-1\" class=\"sk-toggleable__label sk-toggleable__label-arrow\">LinearRegression</label><div class=\"sk-toggleable__content\"><pre>LinearRegression()</pre></div></div></div></div></div>"
      ],
      "text/plain": [
       "LinearRegression()"
      ]
     },
     "execution_count": 12,
     "metadata": {},
     "output_type": "execute_result"
    }
   ],
   "source": [
    "# Separate the independent variables (attributes) and the dependent variable\n",
    "X = population_data.drop('TPopulation1Jan', axis=1)  # The dependent variavle drop\n",
    "y = population_data['TPopulation1Jan']  # y for the dependent variable\n",
    "\n",
    "\n",
    "# Split the dataset into training and testing sets\n",
    "X_train, X_test, y_train, y_test = train_test_split(X, y, test_size=0.2, random_state=42)\n",
    "\n",
    "model = LinearRegression()\n",
    "model.fit(X_train[['LocID', 'Time']], y_train)\n",
    "\n"
   ]
  },
  {
   "cell_type": "code",
   "execution_count": 13,
   "id": "32cf6353",
   "metadata": {},
   "outputs": [
    {
     "name": "stdout",
     "output_type": "stream",
     "text": [
      "Simple multiple linear regression \n",
      "[32032.99055725]\n",
      "[36488.843]\n"
     ]
    }
   ],
   "source": [
    "#make a future prediction \n",
    "X_new = pd.DataFrame({'LocID': [504], 'Time': [2020]})\n",
    "\n",
    "# Predict the population\n",
    "population_pred = model.predict(X_new)\n",
    "\n",
    "print(\"Simple multiple linear regression \")\n",
    "\n",
    "print( population_pred )\n",
    "\n",
    "filter_column1_value = 504\n",
    "filter_column2_value = 2020\n",
    "\n",
    "#extracting the value from the \n",
    "filtered_df =    population_data[(population_data['LocID'] == filter_column1_value) \n",
    "                & (population_data['Time'] == filter_column2_value)]\n",
    " \n",
    "print(  filtered_df['TPopulation1Jan'].values )    \n",
    "\n",
    "\n",
    "    "
   ]
  },
  {
   "cell_type": "code",
   "execution_count": 15,
   "id": "6053b6bb",
   "metadata": {},
   "outputs": [
    {
     "name": "stderr",
     "output_type": "stream",
     "text": [
      "C:\\ProgramData\\anaconda3\\lib\\site-packages\\sklearn\\base.py:420: UserWarning: X does not have valid feature names, but LinearRegression was fitted with feature names\n",
      "  warnings.warn(\n"
     ]
    },
    {
     "data": {
      "image/png": "[encoded data removed]",
      "text/plain": [
       "<Figure size 700x350 with 1 Axes>"
      ]
     },
     "metadata": {},
     "output_type": "display_data"
    }
   ],
   "source": [
    "import matplotlib.pyplot as plt\n",
    "import numpy as np\n",
    "\n",
    "plt.style.use('default')\n",
    "plt.style.use('ggplot')\n",
    "\n",
    "fig, ax = plt.subplots(figsize=(7, 3.5))\n",
    "\n",
    "#Distinct the values for the countries in order for the first x1_pred\n",
    "sorted_values = X['LocID'].drop_duplicates().sort_values()\n",
    "\n",
    "# Generate data for visualization\n",
    "x1_pred = np.linspace(np.min(sorted_values), np.max(sorted_values), len(sorted_values))\n",
    "attribute_name = 'Time'\n",
    "\n",
    "# Get the minimum and maximum values of the selected attribute\n",
    "min_value = np.min(X[attribute_name])\n",
    "max_value = np.max(X[attribute_name])\n",
    "\n",
    "x2_pred_resized = np.linspace(min_value, max_value, len(x1_pred))\n",
    "\n",
    "X_pred = np.column_stack((x1_pred, x2_pred_resized))  # Combine both parameters\n",
    "\n",
    "y_pred = model.predict(X_pred)  # Predicted values for the combined parameters\n",
    "\n",
    "# Visualization\n",
    "ax.plot(y_pred, color='k', label='Regression model')\n",
    "ax.scatter(range(len(y)), y, edgecolor='k', facecolor='grey', alpha=0.7, label='Sample data')\n",
    "\n",
    "ax.set_ylabel('Population ', fontsize=14)\n",
    "ax.set_xlabel('Data point', fontsize=14)\n",
    "\n",
    "ax.legend(facecolor='white', fontsize=11)\n",
    "ax.text(0.55, 0.15, '$y = %.2f x_1 + %.2f x_2 - %.2f $' % (model.coef_[0], model.coef_[1], abs(model.intercept_)),\n",
    "        fontsize=17, transform=ax.transAxes)\n",
    "\n",
    "fig.tight_layout()\n",
    "\n",
    "plt.show()\n"
   ]
  },
  {
   "cell_type": "markdown",
   "id": "128d8bc0",
   "metadata": {},
   "source": [
    "## Applying Modeling algorithms\n",
    "\n",
    "Part of the questions I may need to ask involve my dependent variable, which is population size. However, I am specifically interested in making predictions based on years and country codes. While regression analysis is suitable for this task, I am also considering other algorithms to explore alternative approaches."
   ]
  },
  {
   "cell_type": "markdown",
   "id": "83ad18cf",
   "metadata": {},
   "source": [
    "\n"
   ]
  },
  {
   "cell_type": "markdown",
   "id": "a857e134",
   "metadata": {},
   "source": [
    "###  Multi-variable Linear Regression\n",
    "is a statistical modeling technique used to analyze the relationship between multiple independent variables (also known as predictors or features) and a single continuous dependent variable. It extends the concept of simple linear regression, which considers only one independent variable, to incorporate multiple predictors."
   ]
  },
  {
   "cell_type": "code",
   "execution_count": null,
   "id": "ddc3c1ff",
   "metadata": {},
   "outputs": [],
   "source": [
    "# Separate the independent variables (attributes) and the dependent variable\n",
    "y = population_data['quantile']  # y for the dependent variable\n",
    "X = population_data.drop('quantile', axis=1)  # The independent variables, dropping the dependent variable\n",
    "\n",
    "\n",
    "#verification of y and X\n",
    "print(\"Independent Attributes X \",X.shape)\n",
    "print(\"Dependent Attribute y \", y.shape)\n",
    "\n",
    "print(\"Max quantile \", max(y) , \"Min Quantile \", min(y))\n",
    "\n",
    "# Split the dataset into training and testing sets\n",
    "X_train, X_test, y_train, y_test = train_test_split(X, y, test_size=0.2, random_state=42)\n",
    "\n",
    "print(\"Split dataset training and test : X_train, X_test, y_train, y_test, Done!! \")"
   ]
  },
  {
   "cell_type": "code",
   "execution_count": null,
   "id": "e314eb49",
   "metadata": {},
   "outputs": [],
   "source": [
    "#creation of the polynomial linear regression\n",
    "poly_reg = PolynomialFeatures(degree = 4)\n",
    "X_poly = poly_reg.fit_transform(X)\n",
    "lin_reg_2 = LinearRegression()\n",
    "lin_reg_2.fit(X_train[['LocID', 'Time']], y)\n",
    "\n",
    "print(\"Creation of the Multiple linear regression Model  done !!\")"
   ]
  },
  {
   "cell_type": "code",
   "execution_count": null,
   "id": "610e318c",
   "metadata": {},
   "outputs": [],
   "source": [
    "#verification of model coerficient\n",
    "print( \"Model Coeficients: \", model.coef_)\n"
   ]
  },
  {
   "cell_type": "code",
   "execution_count": null,
   "id": "3a79505e",
   "metadata": {},
   "outputs": [],
   "source": [
    "#vertification  of model intercept\n",
    "print(\"Model Intercept: \", model.intercept_)"
   ]
  },
  {
   "cell_type": "code",
   "execution_count": null,
   "id": "795dede4",
   "metadata": {},
   "outputs": [],
   "source": [
    "#make a future prediction \n",
    "X_new = pd.DataFrame({'LocID': [504], 'Time': [2020]})\n",
    "\n",
    "# Predict the population\n",
    "population_pred = model.predict(X_new)\n",
    "\n",
    "print(\"If the dependent variable after applying QUANTILE DISCRETIZATION should be between 0 and 4 \")\n",
    "\n",
    "print( population_pred )\n"
   ]
  },
  {
   "cell_type": "code",
   "execution_count": null,
   "id": "af922ed3",
   "metadata": {},
   "outputs": [],
   "source": [
    "# Generate "
   ]
  },
  {
   "cell_type": "markdown",
   "id": "008e2838",
   "metadata": {},
   "source": [
    "#### QUANTILE DISCRETIZATION :For better understanding of the data, and to achieve better I am applying the preprocessing technique quantile discretization that divides a continuous variable into a specified number of bins or intervals based on the quantiles of the data distribution"
   ]
  },
  {
   "cell_type": "code",
   "execution_count": null,
   "id": "8c0c3a94",
   "metadata": {},
   "outputs": [],
   "source": [
    "#process of discretization\n",
    "num_bins = 5\n",
    "population_data['quantile'] = pd.qcut(population_data_origin['TPopulation1Jan'], num_bins, labels=False)"
   ]
  },
  {
   "cell_type": "markdown",
   "id": "26d18fbd",
   "metadata": {},
   "source": [
    "### Polynomial Regression Results:\n",
    "Polynomial regression the type in which the relationship between the independent variable(s) and the dependent variable is modeled as an nth-degree polynomial. By fitting a polynomial curve to the data, polynomial regression can capture nonlinear relationships between the variables."
   ]
  },
  {
   "cell_type": "code",
   "execution_count": null,
   "id": "348eb43e",
   "metadata": {},
   "outputs": [],
   "source": [
    "poly_reg = PolynomialFeatures(degree = 4)\n",
    "X_poly = poly_reg.fit_transform(X)\n",
    "lin_reg_2 = LinearRegression()\n",
    "lin_reg_2.fit(X_poly, y)"
   ]
  },
  {
   "cell_type": "markdown",
   "id": "eb13536a",
   "metadata": {},
   "source": [
    "### Long Short-Term Memory (LSTM) Networks: \n",
    " \n",
    "LSTM is a type of recurrent neural network (RNN) that can effectively model and predict sequences, including time series data. LSTM networks can capture long-term dependencies and are commonly used for time series forecasting tasks.\n",
    "\n"
   ]
  },
  {
   "cell_type": "code",
   "execution_count": null,
   "id": "09989d04",
   "metadata": {},
   "outputs": [],
   "source": [
    "# Separate the independent variables (attributes) and the dependent variable\n",
    "X = population_data.drop('TPopulation1Jan', axis=1)  # Replace 'TPopulation1Jan' with the column name of your dependent variable\n",
    "y = population_data['TPopulation1Jan']  # Replace 'TPopulation1Jan' with the column name of your dependent variable\n",
    "\n",
    "# Split the dataset into training and testing sets\n",
    "X_train, X_test, y_train, y_test = train_test_split(X, y, test_size=0.2, random_state=42)\n",
    "\n",
    "# Reshape input data to fit the LSTM input shape [samples, time steps, features]\n",
    "X_train = np.reshape(X_train.values, (X_train.shape[0], X_train.shape[1], 1))\n",
    "X_test = np.reshape(X_test.values, (X_test.shape[0], X_test.shape[1], 1))\n",
    "\n",
    "# Create the LSTM model\n",
    "model = Sequential()\n",
    "model.add(LSTM(units=50, input_shape=(X_train.shape[1], 1)))\n",
    "model.add(Dense(units=1))  # Output layer\n",
    "\n",
    "# Compile the model\n",
    "model.compile(optimizer='adam', loss='mean_squared_error')\n",
    "\n",
    "# Train the model\n",
    "model.fit(X_train, y_train, epochs=10, batch_size=32)\n",
    "\n",
    "# Make predictions on the test data\n",
    "predictions = model.predict(X_test)\n",
    "\n",
    "# Evaluate the model\n",
    "loss = model.evaluate(X_test, y_test)\n",
    "print(\"Test Loss:\", loss)"
   ]
  },
  {
   "cell_type": "code",
   "execution_count": null,
   "id": "fefc50d3",
   "metadata": {},
   "outputs": [],
   "source": [
    "\n",
    "# Data prepared in the following format:\n",
    "# X_train: Training features (input sequence)\n",
    "# y_train: Training labels (output/target)\n",
    "# X_test: Test features (input sequence)\n",
    "# y_test: Test labels (output/target)\n",
    "\n",
    "# Reshape input data to fit the LSTM input shape [samples, features]\n",
    "X_train = np.reshape(X_train, (X_train.shape[0], X_train.shape[1]*X_train.shape[2]))\n",
    "X_test = np.reshape(X_test, (X_test.shape[0], X_test.shape[1]*X_test.shape[2]))\n",
    "\n",
    "# Create the LSTM model\n",
    "model = Sequential()\n",
    "#model.add(LSTM(units=50, input_shape=(X_train.shape[1],)))\n",
    "model.add(LSTM(units=50, input_shape=(X_train.shape[1], 1)))\n",
    "\n",
    "model.add(Dense(units=1))  # Output layer\n",
    "\n",
    "# Compile the model\n",
    "model.compile(optimizer='adam', loss='mean_squared_error')\n",
    "\n",
    "# Train the model\n",
    "model.fit(X_train, y_train, epochs=10, batch_size=32)\n",
    "\n",
    "# Make predictions on the test data\n",
    "predictions = model.predict(X_test)\n",
    "\n",
    "# Evaluate the model\n",
    "loss = model.evaluate(X_test, y_test)\n",
    "print(\"Test Loss:\", loss)\n"
   ]
  }
 ],
 "metadata": {
  "kernelspec": {
   "display_name": "Python 3 (ipykernel)",
   "language": "python",
   "name": "python3"
  },
  "language_info": {
   "codemirror_mode": {
    "name": "ipython",
    "version": 3
   },
   "file_extension": ".py",
   "mimetype": "text/x-python",
   "name": "python",
   "nbconvert_exporter": "python",
   "pygments_lexer": "ipython3",
   "version": "3.10.9"
  }
 },
 "nbformat": 4,
 "nbformat_minor": 5
}
