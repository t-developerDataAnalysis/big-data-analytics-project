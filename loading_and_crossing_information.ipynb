{
 "cells": [
  {
   "cell_type": "markdown",
   "id": "6549cea1",
   "metadata": {},
   "source": [
    "# LOADING AND CROSSING DATA PROCESSES"
   ]
  },
  {
   "cell_type": "markdown",
   "id": "a64ec80a",
   "metadata": {},
   "source": [
    "## Libraries utilized"
   ]
  },
  {
   "cell_type": "code",
   "execution_count": 2,
   "id": "a842bcb0",
   "metadata": {},
   "outputs": [],
   "source": [
    "#libraries utilized by loading and crossing data process\n",
    "import numpy as np\n",
    "import pandas as pd\n",
    "from pandasgui import show\n",
    "#libraries required for the crossing information process\n",
    "import traceback\n",
    "from threading import Thread\n",
    "import threading\n",
    "        "
   ]
  },
  {
   "cell_type": "markdown",
   "id": "5dac9ca6",
   "metadata": {},
   "source": [
    "# The Objective is to merge and transform the Age ranges files into columns of the main dataframe, by joining both files by keys ( location and year )\n",
    "- WPP2022_Demographic_Indicators_Medium.csv\n",
    "- /WPP2022_PopulationExposureByAge5GroupSex_Medium.csv"
   ]
  },
  {
   "cell_type": "markdown",
   "id": "694b1f46",
   "metadata": {},
   "source": [
    "### Read United Nations main attributes ( 65 variables ) csv"
   ]
  },
  {
   "cell_type": "code",
   "execution_count": 3,
   "id": "0425062f",
   "metadata": {},
   "outputs": [
    {
     "name": "stdout",
     "output_type": "stream",
     "text": [
      "<class 'pandas.core.frame.DataFrame'>\n",
      "RangeIndex: 43472 entries, 0 to 43471\n",
      "Data columns (total 67 columns):\n",
      " #   Column                  Non-Null Count  Dtype  \n",
      "---  ------                  --------------  -----  \n",
      " 0   SortOrder               43472 non-null  int64  \n",
      " 1   LocID                   43472 non-null  int64  \n",
      " 2   Notes                   11552 non-null  object \n",
      " 3   ISO3_code               36024 non-null  object \n",
      " 4   ISO2_code               35872 non-null  object \n",
      " 5   SDMX_code               42864 non-null  float64\n",
      " 6   LocTypeID               43472 non-null  int64  \n",
      " 7   LocTypeName             43472 non-null  object \n",
      " 8   ParentID                43472 non-null  int64  \n",
      " 9   Location                43472 non-null  object \n",
      " 10  VarID                   43472 non-null  int64  \n",
      " 11  Variant                 43472 non-null  object \n",
      " 12  Time                    43472 non-null  int64  \n",
      " 13  TPopulation1Jan         43472 non-null  float64\n",
      " 14  TPopulation1July        43186 non-null  float64\n",
      " 15  TPopulationMale1July    43186 non-null  float64\n",
      " 16  TPopulationFemale1July  43186 non-null  float64\n",
      " 17  PopDensity              43186 non-null  float64\n",
      " 18  PopSexRatio             43186 non-null  float64\n",
      " 19  MedianAgePop            43186 non-null  float64\n",
      " 20  NatChange               43186 non-null  float64\n",
      " 21  NatChangeRT             43186 non-null  float64\n",
      " 22  PopChange               43186 non-null  float64\n",
      " 23  PopGrowthRate           43186 non-null  float64\n",
      " 24  DoublingTime            24306 non-null  float64\n",
      " 25  Births                  43186 non-null  float64\n",
      " 26  Births1519              43186 non-null  float64\n",
      " 27  CBR                     43186 non-null  float64\n",
      " 28  TFR                     43186 non-null  float64\n",
      " 29  NRR                     43186 non-null  float64\n",
      " 30  MAC                     43186 non-null  float64\n",
      " 31  SRB                     43186 non-null  float64\n",
      " 32  Deaths                  43186 non-null  float64\n",
      " 33  DeathsMale              43186 non-null  float64\n",
      " 34  DeathsFemale            43186 non-null  float64\n",
      " 35  CDR                     43186 non-null  float64\n",
      " 36  LEx                     43186 non-null  float64\n",
      " 37  LExMale                 43186 non-null  float64\n",
      " 38  LExFemale               43186 non-null  float64\n",
      " 39  LE15                    43186 non-null  float64\n",
      " 40  LE15Male                43186 non-null  float64\n",
      " 41  LE15Female              43186 non-null  float64\n",
      " 42  LE65                    43186 non-null  float64\n",
      " 43  LE65Male                43186 non-null  float64\n",
      " 44  LE65Female              43186 non-null  float64\n",
      " 45  LE80                    43186 non-null  float64\n",
      " 46  LE80Male                43186 non-null  float64\n",
      " 47  LE80Female              43186 non-null  float64\n",
      " 48  InfantDeaths            43186 non-null  float64\n",
      " 49  IMR                     43186 non-null  float64\n",
      " 50  LBsurvivingAge1         43186 non-null  float64\n",
      " 51  Under5Deaths            43186 non-null  float64\n",
      " 52  Q5                      43186 non-null  float64\n",
      " 53  Q0040                   43186 non-null  float64\n",
      " 54  Q0040Male               43186 non-null  float64\n",
      " 55  Q0040Female             43186 non-null  float64\n",
      " 56  Q0060                   43186 non-null  float64\n",
      " 57  Q0060Male               43186 non-null  float64\n",
      " 58  Q0060Female             43186 non-null  float64\n",
      " 59  Q1550                   43186 non-null  float64\n",
      " 60  Q1550Male               43186 non-null  float64\n",
      " 61  Q1550Female             43186 non-null  float64\n",
      " 62  Q1560                   43186 non-null  float64\n",
      " 63  Q1560Male               43186 non-null  float64\n",
      " 64  Q1560Female             43186 non-null  float64\n",
      " 65  NetMigrations           43186 non-null  float64\n",
      " 66  CNMR                    43186 non-null  float64\n",
      "dtypes: float64(55), int64(6), object(6)\n",
      "memory usage: 22.2+ MB\n"
     ]
    }
   ],
   "source": [
    "df  = pd.read_csv('datasets/WPP2022_Demographic_Indicators_Medium.csv',  sep=\",\",low_memory=False)\n",
    "\n",
    "df.info()"
   ]
  },
  {
   "cell_type": "markdown",
   "id": "3683b632",
   "metadata": {},
   "source": [
    "### Read United Nations statistic by range of ages of 5 years "
   ]
  },
  {
   "cell_type": "code",
   "execution_count": 4,
   "id": "9f4d2e7d",
   "metadata": {},
   "outputs": [
    {
     "name": "stdout",
     "output_type": "stream",
     "text": [
      "<class 'pandas.core.frame.DataFrame'>\n",
      "RangeIndex: 903735 entries, 0 to 903734\n",
      "Data columns (total 20 columns):\n",
      " #   Column       Non-Null Count   Dtype  \n",
      "---  ------       --------------   -----  \n",
      " 0   SortOrder    903735 non-null  int64  \n",
      " 1   LocID        903735 non-null  int64  \n",
      " 2   Notes        237825 non-null  object \n",
      " 3   ISO3_code    748356 non-null  object \n",
      " 4   ISO2_code    745185 non-null  object \n",
      " 5   SDMX_code    891051 non-null  float64\n",
      " 6   LocTypeID    903735 non-null  int64  \n",
      " 7   LocTypeName  903735 non-null  object \n",
      " 8   ParentID     903735 non-null  int64  \n",
      " 9   Location     903735 non-null  object \n",
      " 10  VarID        903735 non-null  int64  \n",
      " 11  Variant      903735 non-null  object \n",
      " 12  Time         903735 non-null  int64  \n",
      " 13  MidPeriod    903735 non-null  float64\n",
      " 14  AgeGrp       903735 non-null  object \n",
      " 15  AgeGrpStart  903735 non-null  int64  \n",
      " 16  AgeGrpSpan   903735 non-null  int64  \n",
      " 17  PopMale      903735 non-null  float64\n",
      " 18  PopFemale    903735 non-null  float64\n",
      " 19  PopTotal     903735 non-null  float64\n",
      "dtypes: float64(5), int64(8), object(7)\n",
      "memory usage: 137.9+ MB\n"
     ]
    }
   ],
   "source": [
    "dfAgeGroups  = pd.read_csv('datasets/WPP2022_PopulationExposureByAge5GroupSex_Medium.csv',  sep=\",\",low_memory=False)\n",
    "\n",
    "dfAgeGroups.info()"
   ]
  },
  {
   "cell_type": "markdown",
   "id": "a3328e92",
   "metadata": {},
   "source": [
    "### To speed up the process, it was necessary to set indexes on column \"Year\" and \"LocationID\""
   ]
  },
  {
   "cell_type": "code",
   "execution_count": 5,
   "id": "c444a30c",
   "metadata": {},
   "outputs": [],
   "source": [
    "# Set multi-column index on 'Time' and 'LocID' in df\n",
    "df.set_index(['Time', 'LocID'], inplace=True)\n",
    "\n",
    "# Set multi-column index on 'Time' and 'LocID' in dfAgeGroups\n",
    "dfAgeGroups.set_index(['Time', 'LocID'], inplace=True)"
   ]
  },
  {
   "cell_type": "markdown",
   "id": "e4ca8ce9",
   "metadata": {},
   "source": [
    "## Crossing information for adding columns, extracted from rows ( Transposition )"
   ]
  },
  {
   "cell_type": "markdown",
   "id": "d55b132e",
   "metadata": {},
   "source": [
    "### We updated the range of ages in columns for each location and year. This process of manipulating data is done using a thread that will update column by column. The process is a loop that has used try and catch and column mapping. The process is driven by a json with all the possible options and columns\n"
   ]
  },
  {
   "cell_type": "code",
   "execution_count": 6,
   "id": "6682daca",
   "metadata": {},
   "outputs": [
    {
     "name": "stdout",
     "output_type": "stream",
     "text": [
      "\n",
      "Process completed.\n"
     ]
    }
   ],
   "source": [
    "# Create a dictionary to map age group ranges to column names\n",
    "column_mapping = {\n",
    "    '0-4': ['00_04_male', '00_04_female'],\n",
    "    '5-9': ['05_09_male', '05_09_female'],\n",
    "    '10-14': ['10_14_male', '10_14_female'],\n",
    "    '15-19': ['15_19_male', '15_19_female'],\n",
    "    '20-24': ['20_24_male', '20_24_female'],\n",
    "    '25-29': ['25_29_male', '25_29_female'],\n",
    "    '30-34': ['30_34_male', '30_34_female'],\n",
    "    '35-39': ['35_39_male', '35_39_female'],\n",
    "    '40-44': ['40_44_male', '40_44_female'],\n",
    "    '45-49': ['45_49_male', '45_49_female'],\n",
    "    '50-54': ['50_54_male', '50_54_female'],\n",
    "    '55-59': ['55_59_male', '55_59_female'],\n",
    "    '60-64': ['60_64_male', '60_64_female'],\n",
    "    '65-69': ['65_69_male', '65_69_female'],\n",
    "    '70-74': ['70_74_male', '70_74_female'],\n",
    "    '75-79': ['75_79_male', '75_79_female'],\n",
    "    '80-84': ['80_84_male', '80_84_female'],\n",
    "    '85-89': ['85_89_male', '85_89_female'],\n",
    "    '90-94': ['90_94_male', '90_94_female'],\n",
    "    '95-99': ['95_99_male', '95_99_female'],\n",
    "    '100+': ['100_male', '100_female']\n",
    "}\n",
    "\n",
    "# Shared event flag\n",
    "process_completed = threading.Event()\n",
    "\n",
    "# Function to handle the main process\n",
    "def process_data():\n",
    "    try:\n",
    "        # Loop over the dataframe rows and access columns\n",
    "        for index, row in dfAgeGroups.iterrows():\n",
    "            \n",
    "            time_value = index[0]\n",
    "            locid_value = index[1]\n",
    "            \n",
    "            matching_index = df.loc[(df.index.get_level_values('Time') == time_value) & (df.index.get_level_values('LocID') == locid_value)].index\n",
    "            if not matching_index.empty:\n",
    "                age_group = row['AgeGrp']\n",
    "                if age_group in column_mapping:\n",
    "                    columns_to_update = column_mapping[age_group]                    \n",
    "                    df.loc[matching_index, columns_to_update] = [row['PopMale'],row['PopFemale']]\n",
    "    except Exception as e:\n",
    "        traceback.print_exc()\n",
    "        \n",
    "    process_completed.set()    \n",
    "\n",
    "\n",
    "# Start the process in a separate thread\n",
    "process_thread = Thread(target=process_data)\n",
    "\n",
    "# Start the threads\n",
    "process_thread.start()\n",
    "# loading_thread.start()\n",
    "\n",
    "# Wait for the process thread to finish\n",
    "process_thread.join()\n",
    "\n",
    "\n",
    "\n",
    "# Print a completion message\n",
    "print('\\nProcess completed.')\n",
    "\n"
   ]
  },
  {
   "cell_type": "markdown",
   "id": "559fec78",
   "metadata": {},
   "source": [
    "#### Commented lines used to extract the process dataframe"
   ]
  },
  {
   "cell_type": "code",
   "execution_count": null,
   "id": "4737638e",
   "metadata": {},
   "outputs": [],
   "source": [
    "#df.to_csv('datasets/data_processed_ranges.csv')"
   ]
  },
  {
   "cell_type": "code",
   "execution_count": null,
   "id": "4c9521ce",
   "metadata": {},
   "outputs": [],
   "source": [
    "# df.to_hdf('data_processed.h5', key='df')"
   ]
  },
  {
   "cell_type": "code",
   "execution_count": null,
   "id": "10cd62bc",
   "metadata": {},
   "outputs": [],
   "source": [
    "# import pickle\n",
    "\n",
    "# # Save DataFrame using Pickle\n",
    "# with open('data.pkl', 'wb') as f:\n",
    "#     pickle.dump(df, f)\n"
   ]
  },
  {
   "cell_type": "code",
   "execution_count": null,
   "id": "81ef9f91",
   "metadata": {},
   "outputs": [],
   "source": [
    "# from pandasgui import show\n",
    "# dfAgeGroups.head()\n",
    "# show( dfAgeGroups)"
   ]
  },
  {
   "cell_type": "code",
   "execution_count": null,
   "id": "6073a5e2",
   "metadata": {},
   "outputs": [],
   "source": [
    "show( df )"
   ]
  }
 ],
 "metadata": {
  "kernelspec": {
   "display_name": "Python 3 (ipykernel)",
   "language": "python",
   "name": "python3"
  },
  "language_info": {
   "codemirror_mode": {
    "name": "ipython",
    "version": 3
   },
   "file_extension": ".py",
   "mimetype": "text/x-python",
   "name": "python",
   "nbconvert_exporter": "python",
   "pygments_lexer": "ipython3",
   "version": "3.10.9"
  }
 },
 "nbformat": 4,
 "nbformat_minor": 5
}
