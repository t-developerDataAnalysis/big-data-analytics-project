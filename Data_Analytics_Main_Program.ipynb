{
 "cells": [
  {
   "cell_type": "markdown",
   "id": "d3498794",
   "metadata": {},
   "source": [
    "# DATA ANALYTICS - Population Decline "
   ]
  },
  {
   "cell_type": "markdown",
   "id": "8fba5a21",
   "metadata": {},
   "source": [
    "# 1.-  Problem statement\n",
    "\n",
    "To predict the population growth either positive or negative at any moment by having a good number of quality attributes"
   ]
  },
  {
   "cell_type": "markdown",
   "id": "aec46c04",
   "metadata": {},
   "source": [
    "##### 2.-  Collection of Data\n",
    "\n",
    "My main dataset was extracted from the department of economic and social affairs\n",
    "\n",
    "https://population.un.org/wpp/Download/\n",
    "\n",
    "Datasets https://population.un.org/wpp/Download/Standard/CSV/\n",
    "\n",
    "-  Demographic Indicators -  Medium ( 66 attributes )\n",
    "\n",
    "-  Population on 01 January, by 5-year age groups. \n",
    "\n",
    "The 'WPP2022_PopulationExposureByAge5GroupSex_Medium.csv' file complements the information in the first dataset by providing population size data for each age range, split by gender. This file contains rows representing each year and location, with columns for each age range and corresponding population counts for males and females. To incorporate this information into the study, a program has been developed to convert the row-based data from the file into separate columns in the main dataframe.\n",
    "\n",
    "\n",
    "\n",
    " [Load and Process dataset ](loading_and_crossing_information.ipynb )"
   ]
  },
  {
   "cell_type": "markdown",
   "id": "2f9a8030",
   "metadata": {},
   "source": [
    "# 3.- Data Cleaning\n",
    "\n",
    "Ensures the data is in the correct format; consistent and errors are identified and dealt properly\n"
   ]
  },
  {
   "cell_type": "markdown",
   "id": "deadb227",
   "metadata": {},
   "source": [
    "[Profiling and cleaning of the dataset ](data_cleaning_analysis_preparation.ipynb)"
   ]
  },
  {
   "cell_type": "markdown",
   "id": "b87a24dd",
   "metadata": {},
   "source": [
    "### Population Profile"
   ]
  },
  {
   "cell_type": "markdown",
   "id": "e7804760",
   "metadata": {},
   "source": [
    " [Population Profile](subset_population_profile.html )"
   ]
  },
  {
   "cell_type": "markdown",
   "id": "22036cf0",
   "metadata": {},
   "source": [
    "### Fertility Profile"
   ]
  },
  {
   "cell_type": "markdown",
   "id": "ce056cba",
   "metadata": {},
   "source": [
    " [Fertility Profile](subset_fertility_profile.html )"
   ]
  },
  {
   "cell_type": "markdown",
   "id": "51e0515f",
   "metadata": {},
   "source": [
    "### Mortality profile "
   ]
  },
  {
   "cell_type": "markdown",
   "id": "1e5c20fb",
   "metadata": {},
   "source": [
    "[Mortality Profile](subset_mortaility_profile.html)"
   ]
  },
  {
   "cell_type": "markdown",
   "id": "fee598a7",
   "metadata": {},
   "source": [
    "### Migration Profile"
   ]
  },
  {
   "cell_type": "markdown",
   "id": "b131e4eb",
   "metadata": {},
   "source": [
    "[Migration Profile](subset_migration_profile.html)"
   ]
  },
  {
   "cell_type": "markdown",
   "id": "42d17c43",
   "metadata": {},
   "source": [
    "###  Age range Profile"
   ]
  },
  {
   "cell_type": "markdown",
   "id": "50048f4d",
   "metadata": {},
   "source": [
    "[Age Range Profile](subset_age_range_profile.html)"
   ]
  },
  {
   "cell_type": "markdown",
   "id": "770be5ca",
   "metadata": {},
   "source": [
    "# 4.- Exploratory Data Analysis ( EDA )\n",
    "\n",
    " Methodologies for attribute reduction such as feature selection and PCS. Data's statistical characteristics, create visualisations, and test hypothesise"
   ]
  },
  {
   "cell_type": "markdown",
   "id": "90368b1b",
   "metadata": {},
   "source": [
    "\n",
    "[Data exploratory Analysis - EDA ](exploratory_data_analysis_eda.ipynb)\n"
   ]
  },
  {
   "cell_type": "markdown",
   "id": "66bc9f73",
   "metadata": {},
   "source": [
    "# 5.- Feature Engineering\n",
    "\n",
    "Process of transforming raw data into features that better represent the underlying problem to the predictive models, resulting in improved model accuracy on unseen data."
   ]
  },
  {
   "cell_type": "markdown",
   "id": "61424ad9",
   "metadata": {},
   "source": [
    "[Feature Engineering ](feature_engineering.ipynb)"
   ]
  },
  {
   "cell_type": "markdown",
   "id": "960a5e5d",
   "metadata": {},
   "source": [
    "# 6.- Modeling\n",
    "\n",
    "Implementation of all machine learning models are classified either as a Supervised or Unsupervised learning problem. In the case of population, predicting model have been analized with r^square"
   ]
  },
  {
   "cell_type": "markdown",
   "id": "ea550e9c",
   "metadata": {},
   "source": [
    "[Modeling Linear Regression using different Algoritms/ R-Square test ](modeling_linear_regressions.ipynb)\n",
    "\n",
    "\n",
    "[Other models for linear time progression analysis ](other_models_for_time_progression.ipynb)\n",
    "\n"
   ]
  },
  {
   "cell_type": "code",
   "execution_count": null,
   "id": "2d2a2988",
   "metadata": {},
   "outputs": [],
   "source": []
  }
 ],
 "metadata": {
  "kernelspec": {
   "display_name": "Python 3 (ipykernel)",
   "language": "python",
   "name": "python3"
  },
  "language_info": {
   "codemirror_mode": {
    "name": "ipython",
    "version": 3
   },
   "file_extension": ".py",
   "mimetype": "text/x-python",
   "name": "python",
   "nbconvert_exporter": "python",
   "pygments_lexer": "ipython3",
   "version": "3.10.9"
  }
 },
 "nbformat": 4,
 "nbformat_minor": 5
}
