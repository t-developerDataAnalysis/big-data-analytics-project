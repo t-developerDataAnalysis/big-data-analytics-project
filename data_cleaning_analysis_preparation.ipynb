{
 "cells": [
  {
   "cell_type": "markdown",
   "id": "81f56a38",
   "metadata": {},
   "source": [
    "# Data Cleaning"
   ]
  },
  {
   "cell_type": "markdown",
   "id": "90d851b4",
   "metadata": {},
   "source": [
    "## Importing the data from the pre-processed csv dataframe"
   ]
  },
  {
   "cell_type": "markdown",
   "id": "5a3557aa",
   "metadata": {},
   "source": [
    "## Inclusion of libraries"
   ]
  },
  {
   "cell_type": "code",
   "execution_count": 1,
   "id": "1dc6d34e",
   "metadata": {},
   "outputs": [],
   "source": [
    "#Libraries utilized\n",
    "import numpy as np\n",
    "import pandas as pd\n",
    "\n",
    "from ydata_profiling import ProfileReport\n",
    "from pandasgui import show\n"
   ]
  },
  {
   "cell_type": "code",
   "execution_count": 2,
   "id": "b3cd6191",
   "metadata": {},
   "outputs": [
    {
     "name": "stdout",
     "output_type": "stream",
     "text": [
      "<class 'pandas.core.frame.DataFrame'>\n",
      "RangeIndex: 43472 entries, 0 to 43471\n",
      "Data columns (total 109 columns):\n",
      " #    Column                  Dtype  \n",
      "---   ------                  -----  \n",
      " 0    Time                    int64  \n",
      " 1    LocID                   int64  \n",
      " 2    SortOrder               int64  \n",
      " 3    Notes                   object \n",
      " 4    ISO3_code               object \n",
      " 5    ISO2_code               object \n",
      " 6    SDMX_code               float64\n",
      " 7    LocTypeID               int64  \n",
      " 8    LocTypeName             object \n",
      " 9    ParentID                int64  \n",
      " 10   Location                object \n",
      " 11   VarID                   int64  \n",
      " 12   Variant                 object \n",
      " 13   TPopulation1Jan         float64\n",
      " 14   TPopulation1July        float64\n",
      " 15   TPopulationMale1July    float64\n",
      " 16   TPopulationFemale1July  float64\n",
      " 17   PopDensity              float64\n",
      " 18   PopSexRatio             float64\n",
      " 19   MedianAgePop            float64\n",
      " 20   NatChange               float64\n",
      " 21   NatChangeRT             float64\n",
      " 22   PopChange               float64\n",
      " 23   PopGrowthRate           float64\n",
      " 24   DoublingTime            float64\n",
      " 25   Births                  float64\n",
      " 26   Births1519              float64\n",
      " 27   CBR                     float64\n",
      " 28   TFR                     float64\n",
      " 29   NRR                     float64\n",
      " 30   MAC                     float64\n",
      " 31   SRB                     float64\n",
      " 32   Deaths                  float64\n",
      " 33   DeathsMale              float64\n",
      " 34   DeathsFemale            float64\n",
      " 35   CDR                     float64\n",
      " 36   LEx                     float64\n",
      " 37   LExMale                 float64\n",
      " 38   LExFemale               float64\n",
      " 39   LE15                    float64\n",
      " 40   LE15Male                float64\n",
      " 41   LE15Female              float64\n",
      " 42   LE65                    float64\n",
      " 43   LE65Male                float64\n",
      " 44   LE65Female              float64\n",
      " 45   LE80                    float64\n",
      " 46   LE80Male                float64\n",
      " 47   LE80Female              float64\n",
      " 48   InfantDeaths            float64\n",
      " 49   IMR                     float64\n",
      " 50   LBsurvivingAge1         float64\n",
      " 51   Under5Deaths            float64\n",
      " 52   Q5                      float64\n",
      " 53   Q0040                   float64\n",
      " 54   Q0040Male               float64\n",
      " 55   Q0040Female             float64\n",
      " 56   Q0060                   float64\n",
      " 57   Q0060Male               float64\n",
      " 58   Q0060Female             float64\n",
      " 59   Q1550                   float64\n",
      " 60   Q1550Male               float64\n",
      " 61   Q1550Female             float64\n",
      " 62   Q1560                   float64\n",
      " 63   Q1560Male               float64\n",
      " 64   Q1560Female             float64\n",
      " 65   NetMigrations           float64\n",
      " 66   CNMR                    float64\n",
      " 67   00_04_male              float64\n",
      " 68   00_04_female            float64\n",
      " 69   05_09_male              float64\n",
      " 70   05_09_female            float64\n",
      " 71   10_14_male              float64\n",
      " 72   10_14_female            float64\n",
      " 73   15_19_male              float64\n",
      " 74   15_19_female            float64\n",
      " 75   20_24_male              float64\n",
      " 76   20_24_female            float64\n",
      " 77   25_29_male              float64\n",
      " 78   25_29_female            float64\n",
      " 79   30_34_male              float64\n",
      " 80   30_34_female            float64\n",
      " 81   35_39_male              float64\n",
      " 82   35_39_female            float64\n",
      " 83   40_44_male              float64\n",
      " 84   40_44_female            float64\n",
      " 85   45_49_male              float64\n",
      " 86   45_49_female            float64\n",
      " 87   50_54_male              float64\n",
      " 88   50_54_female            float64\n",
      " 89   55_59_male              float64\n",
      " 90   55_59_female            float64\n",
      " 91   60_64_male              float64\n",
      " 92   60_64_female            float64\n",
      " 93   65_69_male              float64\n",
      " 94   65_69_female            float64\n",
      " 95   70_74_male              float64\n",
      " 96   70_74_female            float64\n",
      " 97   75_79_male              float64\n",
      " 98   75_79_female            float64\n",
      " 99   80_84_male              float64\n",
      " 100  80_84_female            float64\n",
      " 101  85_89_male              float64\n",
      " 102  85_89_female            float64\n",
      " 103  90_94_male              float64\n",
      " 104  90_94_female            float64\n",
      " 105  95_99_male              float64\n",
      " 106  95_99_female            float64\n",
      " 107  100_male                float64\n",
      " 108  100_female              float64\n",
      "dtypes: float64(97), int64(6), object(6)\n",
      "memory usage: 36.2+ MB\n"
     ]
    }
   ],
   "source": [
    "#Loading from the previously processed dataframe\n",
    "df  = pd.read_csv('datasets/data_processed_ranges.csv',  sep=\",\",low_memory=False)\n",
    "\n",
    "# Display the DataFrame information including data types\n",
    "df.info(verbose=True)"
   ]
  },
  {
   "cell_type": "code",
   "execution_count": 3,
   "id": "1103c64c",
   "metadata": {},
   "outputs": [
    {
     "name": "stdout",
     "output_type": "stream",
     "text": [
      " \n",
      "Count total NaN at each column in a DataFrame : \n",
      "\n",
      " Time                0\n",
      "LocID               0\n",
      "SortOrder           0\n",
      "Notes           31920\n",
      "ISO3_code        7448\n",
      "                ...  \n",
      "90_94_female      437\n",
      "95_99_male        437\n",
      "95_99_female      437\n",
      "100_male          437\n",
      "100_female        437\n",
      "Length: 109, dtype: int64\n"
     ]
    }
   ],
   "source": [
    "#checking the quality of the data \n",
    "print(\" \\nCount total NaN at each column in a DataFrame : \\n\\n\",\n",
    "      df.isnull().sum())"
   ]
  },
  {
   "cell_type": "code",
   "execution_count": 4,
   "id": "9b1cdec3",
   "metadata": {},
   "outputs": [],
   "source": [
    "#Cleaning the dataset most important considerations\n",
    "\n",
    "#The study needs only countries, we ommit regions by deleting them\n",
    "withNulls =df[ (df['ISO3_code'].isnull() )  ].index\n",
    "df.drop(withNulls  , inplace=True)\n",
    "\n",
    "#The country only needs proyections and data up to 2023\n",
    "estimationsGreaterCurrent = df[ (df['Time'] > 2023 )  ].index\n",
    "df.drop(estimationsGreaterCurrent  , inplace=True)\n"
   ]
  },
  {
   "cell_type": "markdown",
   "id": "dbeca23d",
   "metadata": {},
   "source": [
    "## Sampling 1000 records for running pandas profiling\n"
   ]
  },
  {
   "cell_type": "code",
   "execution_count": 5,
   "id": "958fbdd3",
   "metadata": {},
   "outputs": [
    {
     "data": {
      "text/html": [
       "<div>\n",
       "<style scoped>\n",
       "    .dataframe tbody tr th:only-of-type {\n",
       "        vertical-align: middle;\n",
       "    }\n",
       "\n",
       "    .dataframe tbody tr th {\n",
       "        vertical-align: top;\n",
       "    }\n",
       "\n",
       "    .dataframe thead th {\n",
       "        text-align: right;\n",
       "    }\n",
       "</style>\n",
       "<table border=\"1\" class=\"dataframe\">\n",
       "  <thead>\n",
       "    <tr style=\"text-align: right;\">\n",
       "      <th></th>\n",
       "      <th>Time</th>\n",
       "      <th>LocID</th>\n",
       "      <th>SortOrder</th>\n",
       "      <th>Notes</th>\n",
       "      <th>ISO3_code</th>\n",
       "      <th>ISO2_code</th>\n",
       "      <th>SDMX_code</th>\n",
       "      <th>LocTypeID</th>\n",
       "      <th>LocTypeName</th>\n",
       "      <th>ParentID</th>\n",
       "      <th>...</th>\n",
       "      <th>80_84_male</th>\n",
       "      <th>80_84_female</th>\n",
       "      <th>85_89_male</th>\n",
       "      <th>85_89_female</th>\n",
       "      <th>90_94_male</th>\n",
       "      <th>90_94_female</th>\n",
       "      <th>95_99_male</th>\n",
       "      <th>95_99_female</th>\n",
       "      <th>100_male</th>\n",
       "      <th>100_female</th>\n",
       "    </tr>\n",
       "  </thead>\n",
       "  <tbody>\n",
       "    <tr>\n",
       "      <th>8883</th>\n",
       "      <td>2017</td>\n",
       "      <td>504</td>\n",
       "      <td>63</td>\n",
       "      <td>NaN</td>\n",
       "      <td>MAR</td>\n",
       "      <td>MA</td>\n",
       "      <td>504.0</td>\n",
       "      <td>4</td>\n",
       "      <td>Country/Area</td>\n",
       "      <td>912</td>\n",
       "      <td>...</td>\n",
       "      <td>88.285</td>\n",
       "      <td>113.712</td>\n",
       "      <td>34.456</td>\n",
       "      <td>47.526</td>\n",
       "      <td>6.873</td>\n",
       "      <td>11.343</td>\n",
       "      <td>0.618</td>\n",
       "      <td>1.288</td>\n",
       "      <td>0.027</td>\n",
       "      <td>0.070</td>\n",
       "    </tr>\n",
       "    <tr>\n",
       "      <th>10212</th>\n",
       "      <td>1978</td>\n",
       "      <td>710</td>\n",
       "      <td>72</td>\n",
       "      <td>NaN</td>\n",
       "      <td>ZAF</td>\n",
       "      <td>ZA</td>\n",
       "      <td>710.0</td>\n",
       "      <td>4</td>\n",
       "      <td>Country/Area</td>\n",
       "      <td>913</td>\n",
       "      <td>...</td>\n",
       "      <td>34.168</td>\n",
       "      <td>50.058</td>\n",
       "      <td>13.010</td>\n",
       "      <td>19.952</td>\n",
       "      <td>4.140</td>\n",
       "      <td>5.730</td>\n",
       "      <td>0.822</td>\n",
       "      <td>0.904</td>\n",
       "      <td>0.094</td>\n",
       "      <td>0.071</td>\n",
       "    </tr>\n",
       "    <tr>\n",
       "      <th>31531</th>\n",
       "      <td>2017</td>\n",
       "      <td>136</td>\n",
       "      <td>212</td>\n",
       "      <td>19</td>\n",
       "      <td>CYM</td>\n",
       "      <td>KY</td>\n",
       "      <td>136.0</td>\n",
       "      <td>4</td>\n",
       "      <td>Country/Area</td>\n",
       "      <td>915</td>\n",
       "      <td>...</td>\n",
       "      <td>0.171</td>\n",
       "      <td>0.221</td>\n",
       "      <td>0.065</td>\n",
       "      <td>0.121</td>\n",
       "      <td>0.020</td>\n",
       "      <td>0.047</td>\n",
       "      <td>0.004</td>\n",
       "      <td>0.009</td>\n",
       "      <td>0.000</td>\n",
       "      <td>0.002</td>\n",
       "    </tr>\n",
       "    <tr>\n",
       "      <th>29100</th>\n",
       "      <td>2018</td>\n",
       "      <td>250</td>\n",
       "      <td>196</td>\n",
       "      <td>26</td>\n",
       "      <td>FRA</td>\n",
       "      <td>FR</td>\n",
       "      <td>250.0</td>\n",
       "      <td>4</td>\n",
       "      <td>Country/Area</td>\n",
       "      <td>926</td>\n",
       "      <td>...</td>\n",
       "      <td>742.447</td>\n",
       "      <td>1096.881</td>\n",
       "      <td>463.691</td>\n",
       "      <td>865.430</td>\n",
       "      <td>180.890</td>\n",
       "      <td>465.921</td>\n",
       "      <td>39.025</td>\n",
       "      <td>146.977</td>\n",
       "      <td>2.300</td>\n",
       "      <td>14.748</td>\n",
       "    </tr>\n",
       "    <tr>\n",
       "      <th>30605</th>\n",
       "      <td>2003</td>\n",
       "      <td>28</td>\n",
       "      <td>206</td>\n",
       "      <td>NaN</td>\n",
       "      <td>ATG</td>\n",
       "      <td>AG</td>\n",
       "      <td>28.0</td>\n",
       "      <td>4</td>\n",
       "      <td>Country/Area</td>\n",
       "      <td>915</td>\n",
       "      <td>...</td>\n",
       "      <td>0.294</td>\n",
       "      <td>0.461</td>\n",
       "      <td>0.158</td>\n",
       "      <td>0.310</td>\n",
       "      <td>0.051</td>\n",
       "      <td>0.127</td>\n",
       "      <td>0.007</td>\n",
       "      <td>0.031</td>\n",
       "      <td>0.000</td>\n",
       "      <td>0.004</td>\n",
       "    </tr>\n",
       "  </tbody>\n",
       "</table>\n",
       "<p>5 rows × 109 columns</p>\n",
       "</div>"
      ],
      "text/plain": [
       "       Time  LocID  SortOrder Notes ISO3_code ISO2_code  SDMX_code  LocTypeID  \\\n",
       "8883   2017    504         63   NaN       MAR        MA      504.0          4   \n",
       "10212  1978    710         72   NaN       ZAF        ZA      710.0          4   \n",
       "31531  2017    136        212    19       CYM        KY      136.0          4   \n",
       "29100  2018    250        196    26       FRA        FR      250.0          4   \n",
       "30605  2003     28        206   NaN       ATG        AG       28.0          4   \n",
       "\n",
       "        LocTypeName  ParentID  ... 80_84_male  80_84_female 85_89_male  \\\n",
       "8883   Country/Area       912  ...     88.285       113.712     34.456   \n",
       "10212  Country/Area       913  ...     34.168        50.058     13.010   \n",
       "31531  Country/Area       915  ...      0.171         0.221      0.065   \n",
       "29100  Country/Area       926  ...    742.447      1096.881    463.691   \n",
       "30605  Country/Area       915  ...      0.294         0.461      0.158   \n",
       "\n",
       "       85_89_female  90_94_male  90_94_female  95_99_male  95_99_female  \\\n",
       "8883         47.526       6.873        11.343       0.618         1.288   \n",
       "10212        19.952       4.140         5.730       0.822         0.904   \n",
       "31531         0.121       0.020         0.047       0.004         0.009   \n",
       "29100       865.430     180.890       465.921      39.025       146.977   \n",
       "30605         0.310       0.051         0.127       0.007         0.031   \n",
       "\n",
       "       100_male  100_female  \n",
       "8883      0.027       0.070  \n",
       "10212     0.094       0.071  \n",
       "31531     0.000       0.002  \n",
       "29100     2.300      14.748  \n",
       "30605     0.000       0.004  \n",
       "\n",
       "[5 rows x 109 columns]"
      ]
     },
     "execution_count": 5,
     "metadata": {},
     "output_type": "execute_result"
    }
   ],
   "source": [
    "# Randomly slecting 1000 records\n",
    "# Set the random seed for reproducibility\n",
    "random_seed = 42\n",
    "\n",
    "# Sample 1000 random records from the DataFrame\n",
    "df_sample = df.sample(n=1000, random_state=random_seed)\n",
    "\n",
    "# Display the sampled DataFrame\n",
    "df_sample.head()"
   ]
  },
  {
   "cell_type": "code",
   "execution_count": 6,
   "id": "397da6ac",
   "metadata": {},
   "outputs": [],
   "source": [
    "#Profiling based on the categories of the dataframe upon categories\n",
    "#Population\n",
    "populationFields = ['LocID', 'Time', 'LocTypeName','TPopulation1Jan','TPopulation1July','TPopulationMale1July','TPopulationFemale1July',\n",
    "                    'PopDensity','PopSexRatio','MedianAgePop','NatChange','NatChangeRT','PopChange','PopGrowthRate',\n",
    "                    'DoublingTime']\n",
    "#Fertility\n",
    "fertilityFields = ['LocID', 'Time', 'LocTypeName','Births','Births1519','CBR','TFR','NRR','MAC','SRB']\n",
    "\n",
    "#Mortality\n",
    "mortalityFields = ['LocID', 'Time', 'LocTypeName','Deaths','DeathsMale','DeathsFemale','CDR','LEx','LExMale','LExFemale','LE15','LE15Male','LE15Female',\n",
    "                    'LE65','LE65Male','LE65Female','LE80','LE80Male','LE80Female','InfantDeaths','IMR','LBsurvivingAge1',\n",
    "                    'Under5Deaths','Q5','Q0040','Q0040Male','Q0040Female','Q0060','Q0060Male','Q0060Female','Q1550',\n",
    "                   'Q1550Male','Q1550Female','Q1560','Q1560Male','Q1560Female']\n",
    "\n",
    "#Migration\n",
    "migrationFields = ['LocID', 'Time', 'LocTypeName','NetMigrations','CNMR']\n",
    "\n",
    "#Ages by Datarange\n",
    "dataRangeFields = ['LocID', 'Time', 'LocTypeName', '00_04_male','00_04_female','05_09_male','05_09_female','10_14_male','10_14_female','15_19_male',\n",
    "                    '15_19_female','20_24_male','20_24_female','25_29_male','25_29_female','30_34_male','30_34_female',\n",
    "                    '35_39_male','35_39_female','40_44_male','40_44_female','45_49_male','45_49_female','50_54_male',\n",
    "                    '50_54_female','55_59_male','55_59_female','60_64_male','60_64_female','65_69_male','65_69_female',\n",
    "                    '70_74_male','70_74_female','75_79_male','75_79_female','80_84_male','80_84_female','85_89_male',\n",
    "                    '85_89_female','90_94_male','90_94_female','95_99_male','95_99_female','100_male','100_female']\n",
    "\n"
   ]
  },
  {
   "cell_type": "markdown",
   "id": "b776e7b2",
   "metadata": {},
   "source": [
    "### Creation of Subsets based on categories "
   ]
  },
  {
   "cell_type": "code",
   "execution_count": 7,
   "id": "94f4662c",
   "metadata": {},
   "outputs": [],
   "source": [
    "# Reset the index of the dataframe\n",
    "\n",
    "#Subset population\n",
    "df_subset_population = pd.DataFrame(df_sample.loc[:,populationFields]).copy()\n",
    "\n",
    "# Subset Fertility\n",
    "df_subset_fertility = pd.DataFrame(df_sample.loc[:,fertilityFields]).copy()\n",
    "\n",
    "# Subset Mortality \n",
    "df_subset_mortality = pd.DataFrame(df_sample.loc[:,mortalityFields]).copy()\n",
    "\n",
    "# Subset Migration \n",
    "df_subset_migration = pd.DataFrame(df_sample.loc[:,migrationFields]).copy()\n",
    "\n",
    "# subset range of ages category\n",
    "df_subset_age_ranges = pd.DataFrame(df_sample.loc[:,dataRangeFields]).copy()\n",
    "\n",
    "\n"
   ]
  },
  {
   "cell_type": "markdown",
   "id": "2a4606b1",
   "metadata": {},
   "source": [
    "### Pandas profiliing for each one of the subsets"
   ]
  },
  {
   "cell_type": "code",
   "execution_count": 8,
   "id": "9ab7182b",
   "metadata": {},
   "outputs": [
    {
     "data": {
      "application/vnd.jupyter.widget-view+json": {
       "model_id": "0951223d28e54329a78384714720f25c",
       "version_major": 2,
       "version_minor": 0
      },
      "text/plain": [
       "Summarize dataset:   0%|          | 0/5 [00:00<?, ?it/s]"
      ]
     },
     "metadata": {},
     "output_type": "display_data"
    },
    {
     "data": {
      "application/vnd.jupyter.widget-view+json": {
       "model_id": "4e424718e05e476d8c7a10d511d4a20c",
       "version_major": 2,
       "version_minor": 0
      },
      "text/plain": [
       "Generate report structure:   0%|          | 0/1 [00:00<?, ?it/s]"
      ]
     },
     "metadata": {},
     "output_type": "display_data"
    },
    {
     "data": {
      "application/vnd.jupyter.widget-view+json": {
       "model_id": "fb123ac40a144fb3be6a20c5b01b08f5",
       "version_major": 2,
       "version_minor": 0
      },
      "text/plain": [
       "Render HTML:   0%|          | 0/1 [00:00<?, ?it/s]"
      ]
     },
     "metadata": {},
     "output_type": "display_data"
    },
    {
     "data": {
      "application/vnd.jupyter.widget-view+json": {
       "model_id": "030ae80153024a5b80e9b8bc72ffd76a",
       "version_major": 2,
       "version_minor": 0
      },
      "text/plain": [
       "Export report to file:   0%|          | 0/1 [00:00<?, ?it/s]"
      ]
     },
     "metadata": {},
     "output_type": "display_data"
    },
    {
     "data": {
      "application/vnd.jupyter.widget-view+json": {
       "model_id": "29a8247d9ba4430c9fc7688ab0682d86",
       "version_major": 2,
       "version_minor": 0
      },
      "text/plain": [
       "Summarize dataset:   0%|          | 0/5 [00:00<?, ?it/s]"
      ]
     },
     "metadata": {},
     "output_type": "display_data"
    },
    {
     "data": {
      "application/vnd.jupyter.widget-view+json": {
       "model_id": "206a259a10f44a39a8c66facd0a3ceff",
       "version_major": 2,
       "version_minor": 0
      },
      "text/plain": [
       "Generate report structure:   0%|          | 0/1 [00:00<?, ?it/s]"
      ]
     },
     "metadata": {},
     "output_type": "display_data"
    },
    {
     "data": {
      "application/vnd.jupyter.widget-view+json": {
       "model_id": "62d7888584ce40389be65d987c4743d4",
       "version_major": 2,
       "version_minor": 0
      },
      "text/plain": [
       "Render HTML:   0%|          | 0/1 [00:00<?, ?it/s]"
      ]
     },
     "metadata": {},
     "output_type": "display_data"
    },
    {
     "data": {
      "application/vnd.jupyter.widget-view+json": {
       "model_id": "64c001324b024026999363ff0ef28c00",
       "version_major": 2,
       "version_minor": 0
      },
      "text/plain": [
       "Export report to file:   0%|          | 0/1 [00:00<?, ?it/s]"
      ]
     },
     "metadata": {},
     "output_type": "display_data"
    },
    {
     "data": {
      "application/vnd.jupyter.widget-view+json": {
       "model_id": "c7bbb7e3ad6f48afb86eea827e0dbfea",
       "version_major": 2,
       "version_minor": 0
      },
      "text/plain": [
       "Summarize dataset:   0%|          | 0/5 [00:00<?, ?it/s]"
      ]
     },
     "metadata": {},
     "output_type": "display_data"
    },
    {
     "data": {
      "application/vnd.jupyter.widget-view+json": {
       "model_id": "febf3b7e8762428fa03e892033a324d7",
       "version_major": 2,
       "version_minor": 0
      },
      "text/plain": [
       "Generate report structure:   0%|          | 0/1 [00:00<?, ?it/s]"
      ]
     },
     "metadata": {},
     "output_type": "display_data"
    },
    {
     "data": {
      "application/vnd.jupyter.widget-view+json": {
       "model_id": "9dfd739a2793414f89536317c0721051",
       "version_major": 2,
       "version_minor": 0
      },
      "text/plain": [
       "Render HTML:   0%|          | 0/1 [00:00<?, ?it/s]"
      ]
     },
     "metadata": {},
     "output_type": "display_data"
    },
    {
     "data": {
      "application/vnd.jupyter.widget-view+json": {
       "model_id": "7059b3c084c24739b7d36cd8f2be894a",
       "version_major": 2,
       "version_minor": 0
      },
      "text/plain": [
       "Export report to file:   0%|          | 0/1 [00:00<?, ?it/s]"
      ]
     },
     "metadata": {},
     "output_type": "display_data"
    },
    {
     "data": {
      "application/vnd.jupyter.widget-view+json": {
       "model_id": "dda0a6b2a94743358a8ccf87b6fe47cf",
       "version_major": 2,
       "version_minor": 0
      },
      "text/plain": [
       "Summarize dataset:   0%|          | 0/5 [00:00<?, ?it/s]"
      ]
     },
     "metadata": {},
     "output_type": "display_data"
    },
    {
     "data": {
      "application/vnd.jupyter.widget-view+json": {
       "model_id": "52ef14b0532c41eb97875fd765ed9bba",
       "version_major": 2,
       "version_minor": 0
      },
      "text/plain": [
       "Generate report structure:   0%|          | 0/1 [00:00<?, ?it/s]"
      ]
     },
     "metadata": {},
     "output_type": "display_data"
    },
    {
     "data": {
      "application/vnd.jupyter.widget-view+json": {
       "model_id": "abdc44a8785a4708bcada73abf6f6865",
       "version_major": 2,
       "version_minor": 0
      },
      "text/plain": [
       "Render HTML:   0%|          | 0/1 [00:00<?, ?it/s]"
      ]
     },
     "metadata": {},
     "output_type": "display_data"
    },
    {
     "data": {
      "application/vnd.jupyter.widget-view+json": {
       "model_id": "1c620c231d8d4540bf09bba298a684ee",
       "version_major": 2,
       "version_minor": 0
      },
      "text/plain": [
       "Export report to file:   0%|          | 0/1 [00:00<?, ?it/s]"
      ]
     },
     "metadata": {},
     "output_type": "display_data"
    },
    {
     "data": {
      "application/vnd.jupyter.widget-view+json": {
       "model_id": "c1a924350c4947e28dfe1ea6d9be59df",
       "version_major": 2,
       "version_minor": 0
      },
      "text/plain": [
       "Summarize dataset:   0%|          | 0/5 [00:00<?, ?it/s]"
      ]
     },
     "metadata": {},
     "output_type": "display_data"
    },
    {
     "data": {
      "application/vnd.jupyter.widget-view+json": {
       "model_id": "3f3824467b634d96810a26a37c5e9e9f",
       "version_major": 2,
       "version_minor": 0
      },
      "text/plain": [
       "Generate report structure:   0%|          | 0/1 [00:00<?, ?it/s]"
      ]
     },
     "metadata": {},
     "output_type": "display_data"
    },
    {
     "data": {
      "application/vnd.jupyter.widget-view+json": {
       "model_id": "3bcb561775814840811daea1b3f51efc",
       "version_major": 2,
       "version_minor": 0
      },
      "text/plain": [
       "Render HTML:   0%|          | 0/1 [00:00<?, ?it/s]"
      ]
     },
     "metadata": {},
     "output_type": "display_data"
    },
    {
     "data": {
      "application/vnd.jupyter.widget-view+json": {
       "model_id": "417bc8df5f604bd6ba02d7927d56d3b9",
       "version_major": 2,
       "version_minor": 0
      },
      "text/plain": [
       "Export report to file:   0%|          | 0/1 [00:00<?, ?it/s]"
      ]
     },
     "metadata": {},
     "output_type": "display_data"
    }
   ],
   "source": [
    "#population\n",
    "df_subset_population_profile = ProfileReport(df_subset_population, title=\"Profiling Report\")\n",
    "\n",
    "df_subset_population_profile.to_file(\"subset_population_profile.html\")    \n",
    "\n",
    "#fertility\n",
    "df_subset_fertility_profile = ProfileReport(df_subset_fertility, title=\"Profiling Report\")\n",
    "\n",
    "df_subset_fertility_profile.to_file(\"subset_fertility_profile.html\")   \n",
    "\n",
    "#mortality\n",
    "df_subset_mortality_profile = ProfileReport(df_subset_mortality, title=\"Profiling Report\")\n",
    "\n",
    "df_subset_mortality_profile.to_file(\"subset_mortaility_profile.html\")  \n",
    "\n",
    "# Migration\n",
    "df_subset_migration_profile = ProfileReport(df_subset_migration, title=\"Profiling Report\")\n",
    "\n",
    "df_subset_migration_profile.to_file(\"subset_migration_profile.html\")  \n",
    "\n",
    "# Age Ranges\n",
    "df_subset_age_range_profile = ProfileReport(df_subset_age_ranges, title=\"Profiling Report\")\n",
    "\n",
    "df_subset_age_range_profile.to_file(\"subset_age_range_profile.html\")  \n",
    "\n"
   ]
  },
  {
   "cell_type": "code",
   "execution_count": 9,
   "id": "d6bed871",
   "metadata": {},
   "outputs": [],
   "source": [
    "#columns with blank spaces\n",
    "df['DoublingTime'] = df['DoublingTime'].fillna(0)"
   ]
  },
  {
   "cell_type": "code",
   "execution_count": 10,
   "id": "f3247687",
   "metadata": {},
   "outputs": [
    {
     "name": "stdout",
     "output_type": "stream",
     "text": [
      " \n",
      "Count total NaN at each column in a DataFrame : \n",
      "\n",
      " Time                0\n",
      "LocID               0\n",
      "SortOrder           0\n",
      "Notes           12876\n",
      "ISO3_code           0\n",
      "                ...  \n",
      "90_94_female       74\n",
      "95_99_male         74\n",
      "95_99_female       74\n",
      "100_male           74\n",
      "100_female         74\n",
      "Length: 109, dtype: int64\n"
     ]
    }
   ],
   "source": [
    "print(\" \\nCount total NaN at each column in a DataFrame : \\n\\n\",\n",
    "      df.isnull().sum())"
   ]
  },
  {
   "cell_type": "code",
   "execution_count": 21,
   "id": "c1d5d974",
   "metadata": {},
   "outputs": [
    {
     "data": {
      "text/html": [
       "<div>\n",
       "<style scoped>\n",
       "    .dataframe tbody tr th:only-of-type {\n",
       "        vertical-align: middle;\n",
       "    }\n",
       "\n",
       "    .dataframe tbody tr th {\n",
       "        vertical-align: top;\n",
       "    }\n",
       "\n",
       "    .dataframe thead th {\n",
       "        text-align: right;\n",
       "    }\n",
       "</style>\n",
       "<table border=\"1\" class=\"dataframe\">\n",
       "  <thead>\n",
       "    <tr style=\"text-align: right;\">\n",
       "      <th></th>\n",
       "      <th>Time</th>\n",
       "      <th>LocID</th>\n",
       "      <th>SortOrder</th>\n",
       "      <th>Notes</th>\n",
       "      <th>ISO3_code</th>\n",
       "      <th>ISO2_code</th>\n",
       "      <th>SDMX_code</th>\n",
       "      <th>LocTypeID</th>\n",
       "      <th>LocTypeName</th>\n",
       "      <th>ParentID</th>\n",
       "      <th>...</th>\n",
       "      <th>80_84_male</th>\n",
       "      <th>80_84_female</th>\n",
       "      <th>85_89_male</th>\n",
       "      <th>85_89_female</th>\n",
       "      <th>90_94_male</th>\n",
       "      <th>90_94_female</th>\n",
       "      <th>95_99_male</th>\n",
       "      <th>95_99_female</th>\n",
       "      <th>100_male</th>\n",
       "      <th>100_female</th>\n",
       "    </tr>\n",
       "  </thead>\n",
       "  <tbody>\n",
       "    <tr>\n",
       "      <th>26904</th>\n",
       "      <td>1950</td>\n",
       "      <td>336</td>\n",
       "      <td>182</td>\n",
       "      <td>22</td>\n",
       "      <td>VAT</td>\n",
       "      <td>VA</td>\n",
       "      <td>336.0</td>\n",
       "      <td>4</td>\n",
       "      <td>Country/Area</td>\n",
       "      <td>925</td>\n",
       "      <td>...</td>\n",
       "      <td>NaN</td>\n",
       "      <td>NaN</td>\n",
       "      <td>NaN</td>\n",
       "      <td>NaN</td>\n",
       "      <td>NaN</td>\n",
       "      <td>NaN</td>\n",
       "      <td>NaN</td>\n",
       "      <td>NaN</td>\n",
       "      <td>NaN</td>\n",
       "      <td>NaN</td>\n",
       "    </tr>\n",
       "    <tr>\n",
       "      <th>26905</th>\n",
       "      <td>1951</td>\n",
       "      <td>336</td>\n",
       "      <td>182</td>\n",
       "      <td>22</td>\n",
       "      <td>VAT</td>\n",
       "      <td>VA</td>\n",
       "      <td>336.0</td>\n",
       "      <td>4</td>\n",
       "      <td>Country/Area</td>\n",
       "      <td>925</td>\n",
       "      <td>...</td>\n",
       "      <td>NaN</td>\n",
       "      <td>NaN</td>\n",
       "      <td>NaN</td>\n",
       "      <td>NaN</td>\n",
       "      <td>NaN</td>\n",
       "      <td>NaN</td>\n",
       "      <td>NaN</td>\n",
       "      <td>NaN</td>\n",
       "      <td>NaN</td>\n",
       "      <td>NaN</td>\n",
       "    </tr>\n",
       "    <tr>\n",
       "      <th>26906</th>\n",
       "      <td>1952</td>\n",
       "      <td>336</td>\n",
       "      <td>182</td>\n",
       "      <td>22</td>\n",
       "      <td>VAT</td>\n",
       "      <td>VA</td>\n",
       "      <td>336.0</td>\n",
       "      <td>4</td>\n",
       "      <td>Country/Area</td>\n",
       "      <td>925</td>\n",
       "      <td>...</td>\n",
       "      <td>NaN</td>\n",
       "      <td>NaN</td>\n",
       "      <td>NaN</td>\n",
       "      <td>NaN</td>\n",
       "      <td>NaN</td>\n",
       "      <td>NaN</td>\n",
       "      <td>NaN</td>\n",
       "      <td>NaN</td>\n",
       "      <td>NaN</td>\n",
       "      <td>NaN</td>\n",
       "    </tr>\n",
       "    <tr>\n",
       "      <th>26907</th>\n",
       "      <td>1953</td>\n",
       "      <td>336</td>\n",
       "      <td>182</td>\n",
       "      <td>22</td>\n",
       "      <td>VAT</td>\n",
       "      <td>VA</td>\n",
       "      <td>336.0</td>\n",
       "      <td>4</td>\n",
       "      <td>Country/Area</td>\n",
       "      <td>925</td>\n",
       "      <td>...</td>\n",
       "      <td>NaN</td>\n",
       "      <td>NaN</td>\n",
       "      <td>NaN</td>\n",
       "      <td>NaN</td>\n",
       "      <td>NaN</td>\n",
       "      <td>NaN</td>\n",
       "      <td>NaN</td>\n",
       "      <td>NaN</td>\n",
       "      <td>NaN</td>\n",
       "      <td>NaN</td>\n",
       "    </tr>\n",
       "    <tr>\n",
       "      <th>26908</th>\n",
       "      <td>1954</td>\n",
       "      <td>336</td>\n",
       "      <td>182</td>\n",
       "      <td>22</td>\n",
       "      <td>VAT</td>\n",
       "      <td>VA</td>\n",
       "      <td>336.0</td>\n",
       "      <td>4</td>\n",
       "      <td>Country/Area</td>\n",
       "      <td>925</td>\n",
       "      <td>...</td>\n",
       "      <td>NaN</td>\n",
       "      <td>NaN</td>\n",
       "      <td>NaN</td>\n",
       "      <td>NaN</td>\n",
       "      <td>NaN</td>\n",
       "      <td>NaN</td>\n",
       "      <td>NaN</td>\n",
       "      <td>NaN</td>\n",
       "      <td>NaN</td>\n",
       "      <td>NaN</td>\n",
       "    </tr>\n",
       "  </tbody>\n",
       "</table>\n",
       "<p>5 rows × 109 columns</p>\n",
       "</div>"
      ],
      "text/plain": [
       "       Time  LocID  SortOrder Notes ISO3_code ISO2_code  SDMX_code  LocTypeID  \\\n",
       "26904  1950    336        182    22       VAT        VA      336.0          4   \n",
       "26905  1951    336        182    22       VAT        VA      336.0          4   \n",
       "26906  1952    336        182    22       VAT        VA      336.0          4   \n",
       "26907  1953    336        182    22       VAT        VA      336.0          4   \n",
       "26908  1954    336        182    22       VAT        VA      336.0          4   \n",
       "\n",
       "        LocTypeName  ParentID  ... 80_84_male  80_84_female 85_89_male  \\\n",
       "26904  Country/Area       925  ...        NaN           NaN        NaN   \n",
       "26905  Country/Area       925  ...        NaN           NaN        NaN   \n",
       "26906  Country/Area       925  ...        NaN           NaN        NaN   \n",
       "26907  Country/Area       925  ...        NaN           NaN        NaN   \n",
       "26908  Country/Area       925  ...        NaN           NaN        NaN   \n",
       "\n",
       "       85_89_female  90_94_male  90_94_female  95_99_male  95_99_female  \\\n",
       "26904           NaN         NaN           NaN         NaN           NaN   \n",
       "26905           NaN         NaN           NaN         NaN           NaN   \n",
       "26906           NaN         NaN           NaN         NaN           NaN   \n",
       "26907           NaN         NaN           NaN         NaN           NaN   \n",
       "26908           NaN         NaN           NaN         NaN           NaN   \n",
       "\n",
       "       100_male  100_female  \n",
       "26904       NaN         NaN  \n",
       "26905       NaN         NaN  \n",
       "26906       NaN         NaN  \n",
       "26907       NaN         NaN  \n",
       "26908       NaN         NaN  \n",
       "\n",
       "[5 rows x 109 columns]"
      ]
     },
     "execution_count": 21,
     "metadata": {},
     "output_type": "execute_result"
    }
   ],
   "source": [
    "#The only one country with no recors on these rages of ages is the vatican city \n",
    "df[ (df['LocID'] == 336 ) ].head()"
   ]
  },
  {
   "cell_type": "code",
   "execution_count": 22,
   "id": "73f11f5d",
   "metadata": {},
   "outputs": [],
   "source": [
    "#The country Vatican City does not change much the population analysis\n",
    "vaticanCityPopulation = df[ (df['LocID'] == 336 ) ].index\n",
    "df.drop(vaticanCityPopulation  , inplace=True)"
   ]
  },
  {
   "cell_type": "code",
   "execution_count": 23,
   "id": "81b2268a",
   "metadata": {},
   "outputs": [
    {
     "name": "stdout",
     "output_type": "stream",
     "text": [
      " \n",
      "Count total NaN at each column in a DataFrame : \n",
      "\n",
      " Time                0\n",
      "LocID               0\n",
      "SortOrder           0\n",
      "Notes           12876\n",
      "ISO3_code           0\n",
      "                ...  \n",
      "90_94_female        0\n",
      "95_99_male          0\n",
      "95_99_female        0\n",
      "100_male            0\n",
      "100_female          0\n",
      "Length: 109, dtype: int64\n"
     ]
    }
   ],
   "source": [
    "print(\" \\nCount total NaN at each column in a DataFrame : \\n\\n\",\n",
    "      df.isnull().sum())"
   ]
  },
  {
   "cell_type": "markdown",
   "id": "31f9a8a0",
   "metadata": {},
   "source": [
    "## Creation of the cleaned dataframe for the next step"
   ]
  },
  {
   "cell_type": "code",
   "execution_count": 26,
   "id": "72167dcf",
   "metadata": {},
   "outputs": [],
   "source": [
    "## after data cleaning we generate the file to continue with further analysis\n",
    "#df.to_csv('datasets/data_cleaned_for_eda.csv')"
   ]
  }
 ],
 "metadata": {
  "kernelspec": {
   "display_name": "Python 3 (ipykernel)",
   "language": "python",
   "name": "python3"
  },
  "language_info": {
   "codemirror_mode": {
    "name": "ipython",
    "version": 3
   },
   "file_extension": ".py",
   "mimetype": "text/x-python",
   "name": "python",
   "nbconvert_exporter": "python",
   "pygments_lexer": "ipython3",
   "version": "3.10.9"
  }
 },
 "nbformat": 4,
 "nbformat_minor": 5
}
